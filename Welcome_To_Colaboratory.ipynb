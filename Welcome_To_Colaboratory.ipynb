{
  "nbformat": 4,
  "nbformat_minor": 0,
  "metadata": {
    "colab": {
      "name": "Welcome To Colaboratory",
      "provenance": [],
      "collapsed_sections": [],
      "include_colab_link": true
    },
    "kernelspec": {
      "display_name": "Python 3",
      "name": "python3"
    }
  },
  "cells": [
    {
      "cell_type": "markdown",
      "metadata": {
        "id": "view-in-github",
        "colab_type": "text"
      },
      "source": [
        "<a href=\"https://colab.research.google.com/github/20pa1a1253/Basic-ML/blob/main/Welcome_To_Colaboratory.ipynb\" target=\"_parent\"><img src=\"https://colab.research.google.com/assets/colab-badge.svg\" alt=\"Open In Colab\"/></a>"
      ]
    },
    {
      "cell_type": "markdown",
      "metadata": {
        "id": "sn_XQaOpgHvd"
      },
      "source": [
        "Here's the basic python examples on Arithmetic operators"
      ]
    },
    {
      "cell_type": "code",
      "metadata": {
        "id": "LmxqHp7sgffE",
        "colab": {
          "base_uri": "https://localhost:8080/"
        },
        "outputId": "2d45859a-5869-4c86-8046-f2ffceb67fff"
      },
      "source": [
        "a=6\n",
        "b=5\n",
        "c=a+b\n",
        "print(c)"
      ],
      "execution_count": null,
      "outputs": [
        {
          "output_type": "stream",
          "text": [
            "11\n"
          ],
          "name": "stdout"
        }
      ]
    },
    {
      "cell_type": "markdown",
      "metadata": {
        "id": "Zzc61k3BhAKh"
      },
      "source": [
        "The above program is an example of addition operator"
      ]
    },
    {
      "cell_type": "code",
      "metadata": {
        "id": "wtb_p8wkhf-B",
        "colab": {
          "base_uri": "https://localhost:8080/"
        },
        "outputId": "3cbb4466-a626-4639-ca13-14bb8e8a6991"
      },
      "source": [
        "a=12\n",
        "b=10\n",
        "c=a-b\n",
        "print(c)"
      ],
      "execution_count": null,
      "outputs": [
        {
          "output_type": "stream",
          "text": [
            "2\n"
          ],
          "name": "stdout"
        }
      ]
    },
    {
      "cell_type": "markdown",
      "metadata": {
        "id": "wVM3Nqdkf98N"
      },
      "source": [
        " The above program is an example for subtraction operator"
      ]
    },
    {
      "cell_type": "code",
      "metadata": {
        "id": "QTAwxP7KiKqR",
        "colab": {
          "base_uri": "https://localhost:8080/"
        },
        "outputId": "05c31dd7-2fb0-4c05-926f-81a0bb626752"
      },
      "source": [
        "a=56\n",
        "b=45\n",
        "c=a*b\n",
        "print(c)"
      ],
      "execution_count": null,
      "outputs": [
        {
          "output_type": "stream",
          "text": [
            "2520\n"
          ],
          "name": "stdout"
        }
      ]
    },
    {
      "cell_type": "markdown",
      "metadata": {
        "id": "RYJzvI10iI9D"
      },
      "source": [
        "The above program is an example of multiplication operator"
      ]
    },
    {
      "cell_type": "markdown",
      "metadata": {
        "id": "iprVOlAcdsA7"
      },
      "source": [
        "__Thank you___"
      ]
    }
  ]
}